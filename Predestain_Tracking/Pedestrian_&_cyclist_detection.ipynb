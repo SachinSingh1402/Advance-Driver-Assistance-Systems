{
 "cells": [
  {
   "cell_type": "code",
   "execution_count": 1,
   "metadata": {},
   "outputs": [],
   "source": [
    "\n",
    "import cv2\n",
    "\n",
    "# Load pre-trained Haar Cascade classifiers for pedestrian and cyclist detection\n",
    "pedestrian_cascade = cv2.CascadeClassifier(cv2.data.haarcascades + 'haarcascade_fullbody.xml')\n",
    "cyclist_cascade = cv2.CascadeClassifier(cv2.data.haarcascades + 'haarcascade_russian_plate_number.xml')\n",
    "\n",
    "# Open video stream from a file or camera (replace 'video.mp4' with 0 for live camera)\n",
    "video = cv2.VideoCapture('pedestrians.avi')\n",
    "\n",
    "# Loop through video frames\n",
    "while video.isOpened():\n",
    "    # Read each frame from the video\n",
    "    ret, frame = video.read()\n",
    "    \n",
    "    # If frame is read correctly, ret is True\n",
    "    if not ret:\n",
    "        break\n",
    "    \n",
    "    # Convert frame to grayscale (Haar Cascades work better on grayscale images)\n",
    "    gray_frame = cv2.cvtColor(frame, cv2.COLOR_BGR2GRAY)\n",
    "    \n",
    "    # Detect pedestrians in the frame\n",
    "    pedestrians = pedestrian_cascade.detectMultiScale(gray_frame, scaleFactor=1.1, minNeighbors=5, minSize=(30, 30))\n",
    "    \n",
    "    # Detect cyclists in the frame (using the same classifier or a different one if available)\n",
    "    cyclists = cyclist_cascade.detectMultiScale(gray_frame, scaleFactor=1.1, minNeighbors=5, minSize=(30, 30))\n",
    "    \n",
    "    # Draw rectangles around detected pedestrians\n",
    "    for (x, y, w, h) in pedestrians:\n",
    "        cv2.rectangle(frame, (x, y), (x+w, y+h), (0, 255, 0), 2)  # Green for pedestrians\n",
    "    \n",
    "    # Draw rectangles around detected cyclists\n",
    "    for (x, y, w, h) in cyclists:\n",
    "        cv2.rectangle(frame, (x, y), (x+w, y+h), (255, 0, 0), 2)  # Blue for cyclists\n",
    "    \n",
    "    # Display the frame with detected pedestrians and cyclists\n",
    "    cv2.imshow('Pedestrian and Cyclist Detection', frame)\n",
    "    \n",
    "    # Exit loop if 'q' key is pressed\n",
    "    if cv2.waitKey(1) & 0xFF == ord('q'):\n",
    "        break\n",
    "\n",
    "# Release the video capture object and close all windows\n",
    "video.release()\n",
    "cv2.destroyAllWindows()\n"
   ]
  }
 ],
 "metadata": {
  "kernelspec": {
   "display_name": "Python 3",
   "language": "python",
   "name": "python3"
  },
  "language_info": {
   "codemirror_mode": {
    "name": "ipython",
    "version": 3
   },
   "file_extension": ".py",
   "mimetype": "text/x-python",
   "name": "python",
   "nbconvert_exporter": "python",
   "pygments_lexer": "ipython3",
   "version": "3.11.9"
  }
 },
 "nbformat": 4,
 "nbformat_minor": 2
}
